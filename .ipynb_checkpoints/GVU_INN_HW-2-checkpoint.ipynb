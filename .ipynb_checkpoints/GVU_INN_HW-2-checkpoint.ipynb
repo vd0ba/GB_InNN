{
 "cells": [
  {
   "cell_type": "markdown",
   "id": "1932c67f",
   "metadata": {},
   "source": [
    "### Задание:\n",
    "\n",
    "Возьмите набор примеров fashion-MNIST\n",
    "\n",
    "1. Опишите - какой результат нейросети получен в зависимости от:<br>\n",
    "    a. числа нейронов в слое (для 2-х слойной сети),<br>\n",
    "    b. числа слоев (2, 3, 5, 10) при близких размерах сети (близкое число тренируемых параметров).<br>\n",
    "    c. фиксируйте для тренировочного и тестового набора метрики accuracy.<br>\n",
    "\n",
    "2. Проверьте работу разных оптимизаторов (SGD, Adam, RMSProp) для одной из моделей п.1. Фиксируйте для тренировочного и тестового набора метрики accuracy.\n",
    "\n",
    "3. Сделайте вывод - что помогло вам улучшить качество классификации в нейросети на тестовом наборе?\n",
    "\n",
    "4. Для одного варианта сети сформируйте матрицу ошибок по классам. Оцените качество модели по каждому классу отдельно (полнота, точность)."
   ]
  },
  {
   "cell_type": "code",
   "execution_count": 1,
   "id": "2248c444",
   "metadata": {},
   "outputs": [],
   "source": [
    "import keras\n",
    "import numpy as np\n",
    "import pandas as pd\n",
    "import matplotlib.pyplot as plt\n",
    "import seaborn as sn\n",
    "import tensorflow as tf\n",
    "import itertools\n",
    "\n",
    "from keras.datasets import fashion_mnist\n",
    "from keras.layers import Dense\n",
    "from keras.models import Sequential\n",
    "from keras.utils.vis_utils import plot_model\n",
    "from keras.utils.np_utils import to_categorical\n",
    "from keras.models import load_model\n",
    "from keras import optimizers\n",
    "from sklearn.metrics import confusion_matrix"
   ]
  },
  {
   "cell_type": "code",
   "execution_count": 2,
   "id": "d0ba2848",
   "metadata": {},
   "outputs": [
    {
     "data": {
      "text/plain": [
       "'2.12.0'"
      ]
     },
     "execution_count": 2,
     "metadata": {},
     "output_type": "execute_result"
    }
   ],
   "source": [
    "import keras\n",
    "keras.__version__"
   ]
  },
  {
   "cell_type": "code",
   "execution_count": 3,
   "id": "56e862dd",
   "metadata": {},
   "outputs": [
    {
     "name": "stdout",
     "output_type": "stream",
     "text": [
      "(60000, 28, 28) (10000, 28, 28)\n",
      "(60000,)\n"
     ]
    }
   ],
   "source": [
    "(X_train, y_train_labels), (X_test, y_test_labels) = fashion_mnist.load_data()\n",
    "\n",
    "print(X_train.shape, X_test.shape)\n",
    "print(y_train_labels.shape)"
   ]
  },
  {
   "cell_type": "code",
   "execution_count": 4,
   "id": "c77aaa26",
   "metadata": {},
   "outputs": [
    {
     "name": "stdout",
     "output_type": "stream",
     "text": [
      "Label is 4\n"
     ]
    },
    {
     "data": {
      "image/png": "[encoded data removed]",
      "text/plain": [
       "<Figure size 640x480 with 1 Axes>"
      ]
     },
     "metadata": {},
     "output_type": "display_data"
    }
   ],
   "source": [
    "ind = np.random.randint(0, X_train.shape[0])\n",
    "plt.imshow(X_train[ind], cmap='gray')\n",
    "print(f'Label is {y_train_labels[ind]}')"
   ]
  },
  {
   "cell_type": "code",
   "execution_count": 5,
   "id": "7bbf048c",
   "metadata": {},
   "outputs": [
    {
     "data": {
      "text/plain": [
       "(0, 255)"
      ]
     },
     "execution_count": 5,
     "metadata": {},
     "output_type": "execute_result"
    }
   ],
   "source": [
    "X_train.min(), X_train.max()"
   ]
  },
  {
   "cell_type": "code",
   "execution_count": 6,
   "id": "9a546f08",
   "metadata": {},
   "outputs": [
    {
     "data": {
      "text/plain": [
       "(0.0, 1.0)"
      ]
     },
     "execution_count": 6,
     "metadata": {},
     "output_type": "execute_result"
    }
   ],
   "source": [
    "# Нормировка\n",
    "X_train = X_train / 255.0\n",
    "X_test = X_test / 255.0\n",
    "X_train.min(), X_train.max()"
   ]
  },
  {
   "cell_type": "code",
   "execution_count": 7,
   "id": "1bb8d85b",
   "metadata": {},
   "outputs": [
    {
     "data": {
      "text/plain": [
       "((60000, 784), (10000, 784))"
      ]
     },
     "execution_count": 7,
     "metadata": {},
     "output_type": "execute_result"
    }
   ],
   "source": [
    "# Вытягивание признаков\n",
    "X_train = X_train.reshape((-1, 28 * 28))\n",
    "X_test = X_test.reshape((-1, 28 * 28))\n",
    "\n",
    "X_train.shape, X_test.shape"
   ]
  },
  {
   "cell_type": "code",
   "execution_count": 8,
   "id": "994487c1",
   "metadata": {},
   "outputs": [
    {
     "data": {
      "text/plain": [
       "array([[0., 0., 0., ..., 0., 0., 0.],\n",
       "       [0., 0., 0., ..., 0., 0., 0.],\n",
       "       [0., 0., 0., ..., 0., 0., 0.],\n",
       "       ...,\n",
       "       [0., 0., 0., ..., 0., 0., 0.],\n",
       "       [0., 0., 0., ..., 0., 0., 0.],\n",
       "       [0., 0., 0., ..., 0., 0., 0.]])"
      ]
     },
     "execution_count": 8,
     "metadata": {},
     "output_type": "execute_result"
    }
   ],
   "source": [
    "X_train"
   ]
  },
  {
   "cell_type": "code",
   "execution_count": 9,
   "id": "7bb58072",
   "metadata": {},
   "outputs": [
    {
     "data": {
      "text/plain": [
       "array([9, 0, 0, 3, 0], dtype=uint8)"
      ]
     },
     "execution_count": 9,
     "metadata": {},
     "output_type": "execute_result"
    }
   ],
   "source": [
    "y_train_labels[:5]"
   ]
  },
  {
   "cell_type": "code",
   "execution_count": 10,
   "id": "1aedea1f",
   "metadata": {},
   "outputs": [
    {
     "data": {
      "text/plain": [
       "array([[0., 0., 0., 0., 0., 0., 0., 0., 0., 1.],\n",
       "       [1., 0., 0., 0., 0., 0., 0., 0., 0., 0.],\n",
       "       [1., 0., 0., 0., 0., 0., 0., 0., 0., 0.],\n",
       "       [0., 0., 0., 1., 0., 0., 0., 0., 0., 0.],\n",
       "       [1., 0., 0., 0., 0., 0., 0., 0., 0., 0.]], dtype=float32)"
      ]
     },
     "execution_count": 10,
     "metadata": {},
     "output_type": "execute_result"
    }
   ],
   "source": [
    "y_train = to_categorical(y_train_labels)\n",
    "y_test = to_categorical(y_test_labels)\n",
    "\n",
    "y_train[:5]"
   ]
  },
  {
   "cell_type": "code",
   "execution_count": 11,
   "id": "2d270f5f",
   "metadata": {},
   "outputs": [
    {
     "data": {
      "text/plain": [
       "(60000, 784)"
      ]
     },
     "execution_count": 11,
     "metadata": {},
     "output_type": "execute_result"
    }
   ],
   "source": [
    "X_train.shape"
   ]
  },
  {
   "cell_type": "markdown",
   "id": "50ee3478",
   "metadata": {},
   "source": [
    "Создаем модель"
   ]
  },
  {
   "cell_type": "markdown",
   "id": "bc9a0167",
   "metadata": {},
   "source": [
    "Вроде говорили, что на выходе 18 классов, но по факту 10."
   ]
  },
  {
   "cell_type": "code",
   "execution_count": 12,
   "id": "bc7233e9",
   "metadata": {},
   "outputs": [
    {
     "name": "stdout",
     "output_type": "stream",
     "text": [
      "Model: \"sequential\"\n",
      "_________________________________________________________________\n",
      " Layer (type)                Output Shape              Param #   \n",
      "=================================================================\n",
      " dense (Dense)               (None, 64)                50240     \n",
      "                                                                 \n",
      " dense_1 (Dense)             (None, 32)                2080      \n",
      "                                                                 \n",
      " dense_2 (Dense)             (None, 10)                330       \n",
      "                                                                 \n",
      "=================================================================\n",
      "Total params: 52,650\n",
      "Trainable params: 52,650\n",
      "Non-trainable params: 0\n",
      "_________________________________________________________________\n"
     ]
    }
   ],
   "source": [
    "model = Sequential([\n",
    "    Dense(64, input_shape=(28 * 28,), activation='relu'),\n",
    "    Dense(32, activation='relu'),\n",
    "    Dense(10, activation='sigmoid')\n",
    "])\n",
    "\n",
    "model.summary()"
   ]
  },
  {
   "cell_type": "markdown",
   "id": "67521693",
   "metadata": {},
   "source": [
    "Компиляция модели"
   ]
  },
  {
   "cell_type": "code",
   "execution_count": 13,
   "id": "271f52c5",
   "metadata": {},
   "outputs": [],
   "source": [
    "model.compile(loss='categorical_crossentropy', optimizer='SGD', metrics=['accuracy'])"
   ]
  },
  {
   "cell_type": "code",
   "execution_count": 14,
   "id": "6c41e60c",
   "metadata": {},
   "outputs": [
    {
     "name": "stdout",
     "output_type": "stream",
     "text": [
      "Epoch 1/5\n",
      "235/235 [==============================] - 1s 4ms/step - loss: 1.4405 - accuracy: 0.5490 - val_loss: 1.0180 - val_accuracy: 0.6639\n",
      "Epoch 2/5\n",
      "235/235 [==============================] - 1s 3ms/step - loss: 0.8789 - accuracy: 0.7023 - val_loss: 0.8042 - val_accuracy: 0.7202\n",
      "Epoch 3/5\n",
      "235/235 [==============================] - 1s 3ms/step - loss: 0.7405 - accuracy: 0.7475 - val_loss: 0.7199 - val_accuracy: 0.7468\n",
      "Epoch 4/5\n",
      "235/235 [==============================] - 0s 2ms/step - loss: 0.6676 - accuracy: 0.7741 - val_loss: 0.6671 - val_accuracy: 0.7587\n",
      "Epoch 5/5\n",
      "235/235 [==============================] - 1s 2ms/step - loss: 0.6195 - accuracy: 0.7887 - val_loss: 0.6228 - val_accuracy: 0.7830\n"
     ]
    }
   ],
   "source": [
    "history = model.fit(X_train, y_train,\n",
    "                    epochs=5,\n",
    "                    batch_size=256,\n",
    "                    verbose=1,\n",
    "                    validation_data=(X_test, y_test)\n",
    "                    )"
   ]
  },
  {
   "cell_type": "code",
   "execution_count": 15,
   "id": "05105e7c",
   "metadata": {},
   "outputs": [
    {
     "data": {
      "image/png": "[encoded data removed]",
      "text/plain": [
       "<Figure size 640x480 with 1 Axes>"
      ]
     },
     "metadata": {},
     "output_type": "display_data"
    }
   ],
   "source": [
    "train_acc = history.history['accuracy']\n",
    "val_acc = history.history['val_accuracy']\n",
    "\n",
    "plt.plot(train_acc, label='train')\n",
    "plt.plot(val_acc, label='val')\n",
    "plt.legend();"
   ]
  },
  {
   "cell_type": "markdown",
   "id": "dc4ed882",
   "metadata": {},
   "source": [
    "Проверяем обученность модели"
   ]
  },
  {
   "cell_type": "code",
   "execution_count": 16,
   "id": "a29c2f51",
   "metadata": {},
   "outputs": [
    {
     "name": "stdout",
     "output_type": "stream",
     "text": [
      "79/79 [==============================] - 0s 1ms/step - loss: 0.6228 - accuracy: 0.7830\n"
     ]
    },
    {
     "data": {
      "text/plain": [
       "(0.6228050589561462, 0.7829999923706055)"
      ]
     },
     "execution_count": 16,
     "metadata": {},
     "output_type": "execute_result"
    }
   ],
   "source": [
    "loss, metric = model.evaluate(X_test, y_test, batch_size=128)\n",
    "loss, metric"
   ]
  },
  {
   "cell_type": "code",
   "execution_count": 17,
   "id": "8cde526f",
   "metadata": {},
   "outputs": [
    {
     "data": {
      "text/plain": [
       "(1, 784)"
      ]
     },
     "execution_count": 17,
     "metadata": {},
     "output_type": "execute_result"
    }
   ],
   "source": [
    "X_test[0][None].shape"
   ]
  },
  {
   "cell_type": "code",
   "execution_count": 18,
   "id": "47281711",
   "metadata": {},
   "outputs": [
    {
     "name": "stdout",
     "output_type": "stream",
     "text": [
      "1/1 [==============================] - 0s 83ms/step\n"
     ]
    },
    {
     "data": {
      "text/plain": [
       "array([[0.03866029, 0.09409961, 0.14008203, 0.09337462, 0.3782709 ,\n",
       "        0.9960321 , 0.00953859, 0.9977312 , 0.9544713 , 0.99836105]],\n",
       "      dtype=float32)"
      ]
     },
     "execution_count": 18,
     "metadata": {},
     "output_type": "execute_result"
    }
   ],
   "source": [
    "predictions = model.predict(X_test[0][None])\n",
    "predictions"
   ]
  },
  {
   "cell_type": "code",
   "execution_count": 19,
   "id": "fb0525db",
   "metadata": {},
   "outputs": [
    {
     "data": {
      "text/plain": [
       "array([9], dtype=int64)"
      ]
     },
     "execution_count": 19,
     "metadata": {},
     "output_type": "execute_result"
    }
   ],
   "source": [
    "pred_labels = np.argmax(predictions, axis=1)\n",
    "pred_labels"
   ]
  },
  {
   "cell_type": "code",
   "execution_count": 20,
   "id": "b501d615",
   "metadata": {},
   "outputs": [
    {
     "data": {
      "text/plain": [
       "array([9, 2, 1, 1, 6], dtype=uint8)"
      ]
     },
     "execution_count": 20,
     "metadata": {},
     "output_type": "execute_result"
    }
   ],
   "source": [
    "y_test_labels[:5]"
   ]
  },
  {
   "cell_type": "code",
   "execution_count": 21,
   "id": "0f636d71",
   "metadata": {},
   "outputs": [
    {
     "data": {
      "image/png": "[encoded data removed]",
      "text/plain": [
       "<Figure size 1500x500 with 5 Axes>"
      ]
     },
     "metadata": {},
     "output_type": "display_data"
    }
   ],
   "source": [
    "plt.figure(figsize=(3 * 5, 5))\n",
    "\n",
    "for i in range(5):\n",
    "  plt.subplot(1, 5, i+1)\n",
    "  plt.imshow(X_test[i,:].reshape(28, 28))\n",
    "  #plt.xlabel(str(y_pred_class[i]))\n",
    "  plt.xlabel(str(y_test_labels[i]))\n",
    "plt.show() "
   ]
  },
  {
   "cell_type": "code",
   "execution_count": 22,
   "id": "b2b25951",
   "metadata": {},
   "outputs": [],
   "source": [
    "# Save the weights to disk\n",
    "# model.save_weights('model_weights.h5')\n",
    "\n",
    "# Save the model to disk\n",
    "# model.save('model.h5')"
   ]
  },
  {
   "cell_type": "markdown",
   "id": "a4994f9c",
   "metadata": {},
   "source": [
    "Пробуем перебор нейронов в скрытом слое "
   ]
  },
  {
   "cell_type": "code",
   "execution_count": 23,
   "id": "1cc64c09",
   "metadata": {},
   "outputs": [
    {
     "name": "stdout",
     "output_type": "stream",
     "text": [
      "Model: \"sequential_1\"\n",
      "_________________________________________________________________\n",
      " Layer (type)                Output Shape              Param #   \n",
      "=================================================================\n",
      " dense_3 (Dense)             (None, 64)                50240     \n",
      "                                                                 \n",
      " dense_4 (Dense)             (None, 1)                 65        \n",
      "                                                                 \n",
      " dense_5 (Dense)             (None, 10)                20        \n",
      "                                                                 \n",
      "=================================================================\n",
      "Total params: 50,325\n",
      "Trainable params: 50,325\n",
      "Non-trainable params: 0\n",
      "_________________________________________________________________\n",
      "Epoch 1/5\n",
      "1200/1200 [==============================] - 2s 1ms/step - loss: 2.0544 - accuracy: 0.1851 - val_loss: 1.9231 - val_accuracy: 0.2328\n",
      "Epoch 2/5\n",
      "1200/1200 [==============================] - 2s 1ms/step - loss: 1.8627 - accuracy: 0.2436 - val_loss: 1.8262 - val_accuracy: 0.2516\n",
      "Epoch 3/5\n",
      "1200/1200 [==============================] - 1s 1ms/step - loss: 1.7426 - accuracy: 0.2920 - val_loss: 1.6695 - val_accuracy: 0.3076\n",
      "Epoch 4/5\n",
      "1200/1200 [==============================] - 2s 1ms/step - loss: 1.6138 - accuracy: 0.3232 - val_loss: 1.5842 - val_accuracy: 0.3271\n",
      "Epoch 5/5\n",
      "1200/1200 [==============================] - 2s 1ms/step - loss: 1.5438 - accuracy: 0.3400 - val_loss: 1.5263 - val_accuracy: 0.3338\n",
      "1200/1200 [==============================] - 1s 1ms/step - loss: 1.5170 - accuracy: 0.3349\n",
      "200/200 [==============================] - 0s 1ms/step - loss: 1.5263 - accuracy: 0.3338\n",
      "Model: \"sequential_2\"\n",
      "_________________________________________________________________\n",
      " Layer (type)                Output Shape              Param #   \n",
      "=================================================================\n",
      " dense_6 (Dense)             (None, 64)                50240     \n",
      "                                                                 \n",
      " dense_7 (Dense)             (None, 2)                 130       \n",
      "                                                                 \n",
      " dense_8 (Dense)             (None, 10)                30        \n",
      "                                                                 \n",
      "=================================================================\n",
      "Total params: 50,400\n",
      "Trainable params: 50,400\n",
      "Non-trainable params: 0\n",
      "_________________________________________________________________\n",
      "Epoch 1/5\n",
      "1200/1200 [==============================] - 2s 1ms/step - loss: 1.7275 - accuracy: 0.3913 - val_loss: 1.4530 - val_accuracy: 0.5273\n",
      "Epoch 2/5\n",
      "1200/1200 [==============================] - 2s 1ms/step - loss: 1.3173 - accuracy: 0.5481 - val_loss: 1.2321 - val_accuracy: 0.5737\n",
      "Epoch 3/5\n",
      "1200/1200 [==============================] - 2s 1ms/step - loss: 1.1637 - accuracy: 0.5765 - val_loss: 1.1280 - val_accuracy: 0.5846\n",
      "Epoch 4/5\n",
      "1200/1200 [==============================] - 2s 1ms/step - loss: 1.0765 - accuracy: 0.5986 - val_loss: 1.0676 - val_accuracy: 0.5934\n",
      "Epoch 5/5\n",
      "1200/1200 [==============================] - 2s 1ms/step - loss: 1.0140 - accuracy: 0.6088 - val_loss: 1.0083 - val_accuracy: 0.6241\n",
      "1200/1200 [==============================] - 1s 1ms/step - loss: 0.9836 - accuracy: 0.6265\n",
      "200/200 [==============================] - 0s 989us/step - loss: 1.0083 - accuracy: 0.6241\n",
      "Model: \"sequential_3\"\n",
      "_________________________________________________________________\n",
      " Layer (type)                Output Shape              Param #   \n",
      "=================================================================\n",
      " dense_9 (Dense)             (None, 64)                50240     \n",
      "                                                                 \n",
      " dense_10 (Dense)            (None, 4)                 260       \n",
      "                                                                 \n",
      " dense_11 (Dense)            (None, 10)                50        \n",
      "                                                                 \n",
      "=================================================================\n",
      "Total params: 50,550\n",
      "Trainable params: 50,550\n",
      "Non-trainable params: 0\n",
      "_________________________________________________________________\n",
      "Epoch 1/5\n",
      "1200/1200 [==============================] - 2s 2ms/step - loss: 1.2144 - accuracy: 0.5363 - val_loss: 0.8061 - val_accuracy: 0.6869\n",
      "Epoch 2/5\n",
      "1200/1200 [==============================] - 2s 1ms/step - loss: 0.7287 - accuracy: 0.7225 - val_loss: 0.7040 - val_accuracy: 0.7444\n",
      "Epoch 3/5\n",
      "1200/1200 [==============================] - 2s 1ms/step - loss: 0.6392 - accuracy: 0.7668 - val_loss: 0.6228 - val_accuracy: 0.7817\n",
      "Epoch 4/5\n",
      "1200/1200 [==============================] - 1s 972us/step - loss: 0.5811 - accuracy: 0.7919 - val_loss: 0.5982 - val_accuracy: 0.7949\n",
      "Epoch 5/5\n",
      "1200/1200 [==============================] - 1s 1ms/step - loss: 0.5476 - accuracy: 0.8073 - val_loss: 0.5736 - val_accuracy: 0.8057\n",
      "1200/1200 [==============================] - 1s 908us/step - loss: 0.5364 - accuracy: 0.8149\n",
      "200/200 [==============================] - 0s 999us/step - loss: 0.5736 - accuracy: 0.8057\n",
      "Model: \"sequential_4\"\n",
      "_________________________________________________________________\n",
      " Layer (type)                Output Shape              Param #   \n",
      "=================================================================\n",
      " dense_12 (Dense)            (None, 64)                50240     \n",
      "                                                                 \n",
      " dense_13 (Dense)            (None, 8)                 520       \n",
      "                                                                 \n",
      " dense_14 (Dense)            (None, 10)                90        \n",
      "                                                                 \n",
      "=================================================================\n",
      "Total params: 50,850\n",
      "Trainable params: 50,850\n",
      "Non-trainable params: 0\n",
      "_________________________________________________________________\n",
      "Epoch 1/5\n",
      "1200/1200 [==============================] - 2s 1ms/step - loss: 1.1155 - accuracy: 0.6118 - val_loss: 0.7453 - val_accuracy: 0.7317\n",
      "Epoch 2/5\n",
      "1200/1200 [==============================] - 2s 1ms/step - loss: 0.6541 - accuracy: 0.7724 - val_loss: 0.6237 - val_accuracy: 0.7846\n",
      "Epoch 3/5\n",
      "1200/1200 [==============================] - 2s 1ms/step - loss: 0.5724 - accuracy: 0.8034 - val_loss: 0.5759 - val_accuracy: 0.7998\n",
      "Epoch 4/5\n",
      "1200/1200 [==============================] - 1s 1ms/step - loss: 0.5305 - accuracy: 0.8152 - val_loss: 0.5444 - val_accuracy: 0.8161\n",
      "Epoch 5/5\n",
      "1200/1200 [==============================] - 2s 1ms/step - loss: 0.5013 - accuracy: 0.8265 - val_loss: 0.5229 - val_accuracy: 0.8237\n",
      "1200/1200 [==============================] - 1s 1ms/step - loss: 0.4838 - accuracy: 0.8340\n",
      "200/200 [==============================] - 0s 1ms/step - loss: 0.5229 - accuracy: 0.8237\n",
      "Model: \"sequential_5\"\n",
      "_________________________________________________________________\n",
      " Layer (type)                Output Shape              Param #   \n",
      "=================================================================\n",
      " dense_15 (Dense)            (None, 64)                50240     \n",
      "                                                                 \n",
      " dense_16 (Dense)            (None, 16)                1040      \n",
      "                                                                 \n",
      " dense_17 (Dense)            (None, 10)                170       \n",
      "                                                                 \n",
      "=================================================================\n",
      "Total params: 51,450\n",
      "Trainable params: 51,450\n",
      "Non-trainable params: 0\n",
      "_________________________________________________________________\n",
      "Epoch 1/5\n",
      "1200/1200 [==============================] - 2s 2ms/step - loss: 0.9383 - accuracy: 0.6875 - val_loss: 0.6434 - val_accuracy: 0.7700\n",
      "Epoch 2/5\n",
      "1200/1200 [==============================] - 2s 1ms/step - loss: 0.5633 - accuracy: 0.8055 - val_loss: 0.5409 - val_accuracy: 0.8146\n",
      "Epoch 3/5\n",
      "1200/1200 [==============================] - 2s 1ms/step - loss: 0.5016 - accuracy: 0.8267 - val_loss: 0.5039 - val_accuracy: 0.8256\n",
      "Epoch 4/5\n"
     ]
    },
    {
     "name": "stdout",
     "output_type": "stream",
     "text": [
      "1200/1200 [==============================] - 2s 1ms/step - loss: 0.4684 - accuracy: 0.8378 - val_loss: 0.4815 - val_accuracy: 0.8353\n",
      "Epoch 5/5\n",
      "1200/1200 [==============================] - 1s 1000us/step - loss: 0.4463 - accuracy: 0.8453 - val_loss: 0.4747 - val_accuracy: 0.8365\n",
      "1200/1200 [==============================] - 1s 854us/step - loss: 0.4362 - accuracy: 0.8483\n",
      "200/200 [==============================] - 0s 840us/step - loss: 0.4747 - accuracy: 0.8365\n",
      "Model: \"sequential_6\"\n",
      "_________________________________________________________________\n",
      " Layer (type)                Output Shape              Param #   \n",
      "=================================================================\n",
      " dense_18 (Dense)            (None, 64)                50240     \n",
      "                                                                 \n",
      " dense_19 (Dense)            (None, 32)                2080      \n",
      "                                                                 \n",
      " dense_20 (Dense)            (None, 10)                330       \n",
      "                                                                 \n",
      "=================================================================\n",
      "Total params: 52,650\n",
      "Trainable params: 52,650\n",
      "Non-trainable params: 0\n",
      "_________________________________________________________________\n",
      "Epoch 1/5\n",
      "1200/1200 [==============================] - 2s 1ms/step - loss: 0.9077 - accuracy: 0.7004 - val_loss: 0.6219 - val_accuracy: 0.7885\n",
      "Epoch 2/5\n",
      "1200/1200 [==============================] - 2s 1ms/step - loss: 0.5525 - accuracy: 0.8090 - val_loss: 0.5513 - val_accuracy: 0.8018\n",
      "Epoch 3/5\n",
      "1200/1200 [==============================] - 1s 1ms/step - loss: 0.4935 - accuracy: 0.8277 - val_loss: 0.4989 - val_accuracy: 0.8243\n",
      "Epoch 4/5\n",
      "1200/1200 [==============================] - 2s 1ms/step - loss: 0.4647 - accuracy: 0.8355 - val_loss: 0.4743 - val_accuracy: 0.8311\n",
      "Epoch 5/5\n",
      "1200/1200 [==============================] - 1s 1ms/step - loss: 0.4435 - accuracy: 0.8440 - val_loss: 0.4648 - val_accuracy: 0.8377\n",
      "1200/1200 [==============================] - 1s 1ms/step - loss: 0.4306 - accuracy: 0.8484\n",
      "200/200 [==============================] - 0s 1ms/step - loss: 0.4648 - accuracy: 0.8377\n",
      "Model: \"sequential_7\"\n",
      "_________________________________________________________________\n",
      " Layer (type)                Output Shape              Param #   \n",
      "=================================================================\n",
      " dense_21 (Dense)            (None, 64)                50240     \n",
      "                                                                 \n",
      " dense_22 (Dense)            (None, 64)                4160      \n",
      "                                                                 \n",
      " dense_23 (Dense)            (None, 10)                650       \n",
      "                                                                 \n",
      "=================================================================\n",
      "Total params: 55,050\n",
      "Trainable params: 55,050\n",
      "Non-trainable params: 0\n",
      "_________________________________________________________________\n",
      "Epoch 1/5\n",
      "1200/1200 [==============================] - 2s 1ms/step - loss: 0.8788 - accuracy: 0.7176 - val_loss: 0.6136 - val_accuracy: 0.7918\n",
      "Epoch 2/5\n",
      "1200/1200 [==============================] - 2s 1ms/step - loss: 0.5401 - accuracy: 0.8151 - val_loss: 0.5647 - val_accuracy: 0.7949\n",
      "Epoch 3/5\n",
      "1200/1200 [==============================] - 1s 1ms/step - loss: 0.4866 - accuracy: 0.8296 - val_loss: 0.4890 - val_accuracy: 0.8322\n",
      "Epoch 4/5\n",
      "1200/1200 [==============================] - 1s 1ms/step - loss: 0.4569 - accuracy: 0.8401 - val_loss: 0.4783 - val_accuracy: 0.8293\n",
      "Epoch 5/5\n",
      "1200/1200 [==============================] - 1s 1ms/step - loss: 0.4359 - accuracy: 0.8470 - val_loss: 0.4594 - val_accuracy: 0.8375\n",
      "1200/1200 [==============================] - 1s 935us/step - loss: 0.4233 - accuracy: 0.8517\n",
      "200/200 [==============================] - 0s 1ms/step - loss: 0.4594 - accuracy: 0.8375\n",
      "Model: \"sequential_8\"\n",
      "_________________________________________________________________\n",
      " Layer (type)                Output Shape              Param #   \n",
      "=================================================================\n",
      " dense_24 (Dense)            (None, 64)                50240     \n",
      "                                                                 \n",
      " dense_25 (Dense)            (None, 128)               8320      \n",
      "                                                                 \n",
      " dense_26 (Dense)            (None, 10)                1290      \n",
      "                                                                 \n",
      "=================================================================\n",
      "Total params: 59,850\n",
      "Trainable params: 59,850\n",
      "Non-trainable params: 0\n",
      "_________________________________________________________________\n",
      "Epoch 1/5\n",
      "1200/1200 [==============================] - 2s 1ms/step - loss: 0.8872 - accuracy: 0.7156 - val_loss: 0.6187 - val_accuracy: 0.7857\n",
      "Epoch 2/5\n",
      "1200/1200 [==============================] - 2s 1ms/step - loss: 0.5466 - accuracy: 0.8113 - val_loss: 0.5254 - val_accuracy: 0.8158\n",
      "Epoch 3/5\n",
      "1200/1200 [==============================] - 2s 1ms/step - loss: 0.4901 - accuracy: 0.8284 - val_loss: 0.5273 - val_accuracy: 0.8081\n",
      "Epoch 4/5\n",
      "1200/1200 [==============================] - 2s 1ms/step - loss: 0.4605 - accuracy: 0.8376 - val_loss: 0.4743 - val_accuracy: 0.8346\n",
      "Epoch 5/5\n",
      "1200/1200 [==============================] - 2s 1ms/step - loss: 0.4391 - accuracy: 0.8461 - val_loss: 0.4662 - val_accuracy: 0.8381\n",
      "1200/1200 [==============================] - 1s 986us/step - loss: 0.4271 - accuracy: 0.8497\n",
      "200/200 [==============================] - 0s 1ms/step - loss: 0.4662 - accuracy: 0.8381\n",
      "Model: \"sequential_9\"\n",
      "_________________________________________________________________\n",
      " Layer (type)                Output Shape              Param #   \n",
      "=================================================================\n",
      " dense_27 (Dense)            (None, 64)                50240     \n",
      "                                                                 \n",
      " dense_28 (Dense)            (None, 256)               16640     \n",
      "                                                                 \n",
      " dense_29 (Dense)            (None, 10)                2570      \n",
      "                                                                 \n",
      "=================================================================\n",
      "Total params: 69,450\n",
      "Trainable params: 69,450\n",
      "Non-trainable params: 0\n",
      "_________________________________________________________________\n",
      "Epoch 1/5\n",
      "1200/1200 [==============================] - 2s 2ms/step - loss: 0.9249 - accuracy: 0.7041 - val_loss: 0.6330 - val_accuracy: 0.7796\n",
      "Epoch 2/5\n",
      "1200/1200 [==============================] - 2s 1ms/step - loss: 0.5610 - accuracy: 0.8066 - val_loss: 0.5423 - val_accuracy: 0.8112\n",
      "Epoch 3/5\n",
      "1200/1200 [==============================] - 2s 2ms/step - loss: 0.5003 - accuracy: 0.8261 - val_loss: 0.5138 - val_accuracy: 0.8173\n",
      "Epoch 4/5\n",
      "1200/1200 [==============================] - 2s 1ms/step - loss: 0.4707 - accuracy: 0.8346 - val_loss: 0.4783 - val_accuracy: 0.8300\n",
      "Epoch 5/5\n",
      "1200/1200 [==============================] - 2s 2ms/step - loss: 0.4490 - accuracy: 0.8419 - val_loss: 0.4727 - val_accuracy: 0.8292\n",
      "1200/1200 [==============================] - 1s 958us/step - loss: 0.4370 - accuracy: 0.8460\n",
      "200/200 [==============================] - 0s 1ms/step - loss: 0.4727 - accuracy: 0.8292\n",
      "Model: \"sequential_10\"\n",
      "_________________________________________________________________\n",
      " Layer (type)                Output Shape              Param #   \n",
      "=================================================================\n",
      " dense_30 (Dense)            (None, 64)                50240     \n",
      "                                                                 \n",
      " dense_31 (Dense)            (None, 512)               33280     \n",
      "                                                                 \n",
      " dense_32 (Dense)            (None, 10)                5130      \n",
      "                                                                 \n",
      "=================================================================\n",
      "Total params: 88,650\n",
      "Trainable params: 88,650\n",
      "Non-trainable params: 0\n",
      "_________________________________________________________________\n",
      "Epoch 1/5\n"
     ]
    },
    {
     "name": "stdout",
     "output_type": "stream",
     "text": [
      "1200/1200 [==============================] - 2s 1ms/step - loss: 0.9533 - accuracy: 0.6892 - val_loss: 0.6405 - val_accuracy: 0.7752\n",
      "Epoch 2/5\n",
      "1200/1200 [==============================] - 2s 2ms/step - loss: 0.5674 - accuracy: 0.8031 - val_loss: 0.5461 - val_accuracy: 0.8101\n",
      "Epoch 3/5\n",
      "1200/1200 [==============================] - 2s 1ms/step - loss: 0.5030 - accuracy: 0.8244 - val_loss: 0.5178 - val_accuracy: 0.8172\n",
      "Epoch 4/5\n",
      "1200/1200 [==============================] - 2s 1ms/step - loss: 0.4711 - accuracy: 0.8350 - val_loss: 0.4821 - val_accuracy: 0.8310\n",
      "Epoch 5/5\n",
      "1200/1200 [==============================] - 2s 1ms/step - loss: 0.4486 - accuracy: 0.8423 - val_loss: 0.4748 - val_accuracy: 0.8332\n",
      "1200/1200 [==============================] - 1s 1ms/step - loss: 0.4401 - accuracy: 0.8461\n",
      "200/200 [==============================] - 0s 1ms/step - loss: 0.4748 - accuracy: 0.8332\n",
      "CPU times: total: 2min 40s\n",
      "Wall time: 1min 41s\n"
     ]
    }
   ],
   "source": [
    "%%time\n",
    "results_num = pd.DataFrame()\n",
    "n_nums = []\n",
    "train_losses = []\n",
    "test_losses = []\n",
    "train_metrics = []\n",
    "test_metrics = []\n",
    "\n",
    "epochs = 5\n",
    "batch_size = 50\n",
    "\n",
    "for n_num in list(map(lambda x: 2**x, range(0,10))):\n",
    "    \n",
    "    n_nums.append(n_num)\n",
    "    \n",
    "    model = Sequential([\n",
    "        Dense(64, input_shape=(28 * 28,), activation='relu'),\n",
    "        Dense(n_num, activation='relu'),\n",
    "        Dense(10, activation='sigmoid')\n",
    "    ])\n",
    "\n",
    "    model.summary()\n",
    "    \n",
    "    # Компиляция модели\n",
    "    model.compile(loss='categorical_crossentropy', optimizer='SGD', metrics=['accuracy'])\n",
    "    \n",
    "    history = model.fit(X_train, y_train,\n",
    "                    epochs=epochs,\n",
    "                    batch_size=batch_size,\n",
    "                    verbose=1,\n",
    "                    validation_data=(X_test, y_test)\n",
    "                    )\n",
    "    train_acc = history.history['accuracy']\n",
    "    val_acc = history.history['val_accuracy']\n",
    "    \n",
    "    train_loss, train_metric = model.evaluate(X_train, y_train, batch_size)\n",
    "    train_losses.append(train_loss)\n",
    "    train_metrics.append(train_metric)\n",
    "    test_loss, test_metric = model.evaluate(X_test, y_test, batch_size)\n",
    "    test_losses.append(test_loss)\n",
    "    test_metrics.append(test_metric)\n",
    "    \n",
    "    \n",
    "results_num['n_num'] = n_nums\n",
    "results_num['train_loss'] = train_losses\n",
    "results_num['test_loss'] = test_losses\n",
    "results_num['train_metric'] = train_metrics\n",
    "results_num['test_metric'] = test_metrics\n"
   ]
  },
  {
   "cell_type": "code",
   "execution_count": 24,
   "id": "ee48b40f",
   "metadata": {},
   "outputs": [
    {
     "data": {
      "text/html": [
       "<div>\n",
       "<style scoped>\n",
       "    .dataframe tbody tr th:only-of-type {\n",
       "        vertical-align: middle;\n",
       "    }\n",
       "\n",
       "    .dataframe tbody tr th {\n",
       "        vertical-align: top;\n",
       "    }\n",
       "\n",
       "    .dataframe thead th {\n",
       "        text-align: right;\n",
       "    }\n",
       "</style>\n",
       "<table border=\"1\" class=\"dataframe\">\n",
       "  <thead>\n",
       "    <tr style=\"text-align: right;\">\n",
       "      <th></th>\n",
       "      <th>n_num</th>\n",
       "      <th>train_loss</th>\n",
       "      <th>test_loss</th>\n",
       "      <th>train_metric</th>\n",
       "      <th>test_metric</th>\n",
       "    </tr>\n",
       "  </thead>\n",
       "  <tbody>\n",
       "    <tr>\n",
       "      <th>7</th>\n",
       "      <td>128</td>\n",
       "      <td>0.427066</td>\n",
       "      <td>0.466167</td>\n",
       "      <td>0.849733</td>\n",
       "      <td>0.8381</td>\n",
       "    </tr>\n",
       "    <tr>\n",
       "      <th>5</th>\n",
       "      <td>32</td>\n",
       "      <td>0.430564</td>\n",
       "      <td>0.464828</td>\n",
       "      <td>0.848400</td>\n",
       "      <td>0.8377</td>\n",
       "    </tr>\n",
       "    <tr>\n",
       "      <th>6</th>\n",
       "      <td>64</td>\n",
       "      <td>0.423311</td>\n",
       "      <td>0.459393</td>\n",
       "      <td>0.851683</td>\n",
       "      <td>0.8375</td>\n",
       "    </tr>\n",
       "    <tr>\n",
       "      <th>4</th>\n",
       "      <td>16</td>\n",
       "      <td>0.436182</td>\n",
       "      <td>0.474708</td>\n",
       "      <td>0.848267</td>\n",
       "      <td>0.8365</td>\n",
       "    </tr>\n",
       "    <tr>\n",
       "      <th>9</th>\n",
       "      <td>512</td>\n",
       "      <td>0.440141</td>\n",
       "      <td>0.474846</td>\n",
       "      <td>0.846100</td>\n",
       "      <td>0.8332</td>\n",
       "    </tr>\n",
       "    <tr>\n",
       "      <th>8</th>\n",
       "      <td>256</td>\n",
       "      <td>0.436987</td>\n",
       "      <td>0.472681</td>\n",
       "      <td>0.845967</td>\n",
       "      <td>0.8292</td>\n",
       "    </tr>\n",
       "    <tr>\n",
       "      <th>3</th>\n",
       "      <td>8</td>\n",
       "      <td>0.483793</td>\n",
       "      <td>0.522913</td>\n",
       "      <td>0.834017</td>\n",
       "      <td>0.8237</td>\n",
       "    </tr>\n",
       "    <tr>\n",
       "      <th>2</th>\n",
       "      <td>4</td>\n",
       "      <td>0.536412</td>\n",
       "      <td>0.573573</td>\n",
       "      <td>0.814917</td>\n",
       "      <td>0.8057</td>\n",
       "    </tr>\n",
       "    <tr>\n",
       "      <th>1</th>\n",
       "      <td>2</td>\n",
       "      <td>0.983580</td>\n",
       "      <td>1.008259</td>\n",
       "      <td>0.626533</td>\n",
       "      <td>0.6241</td>\n",
       "    </tr>\n",
       "    <tr>\n",
       "      <th>0</th>\n",
       "      <td>1</td>\n",
       "      <td>1.517011</td>\n",
       "      <td>1.526342</td>\n",
       "      <td>0.334867</td>\n",
       "      <td>0.3338</td>\n",
       "    </tr>\n",
       "  </tbody>\n",
       "</table>\n",
       "</div>"
      ],
      "text/plain": [
       "   n_num  train_loss  test_loss  train_metric  test_metric\n",
       "7    128    0.427066   0.466167      0.849733       0.8381\n",
       "5     32    0.430564   0.464828      0.848400       0.8377\n",
       "6     64    0.423311   0.459393      0.851683       0.8375\n",
       "4     16    0.436182   0.474708      0.848267       0.8365\n",
       "9    512    0.440141   0.474846      0.846100       0.8332\n",
       "8    256    0.436987   0.472681      0.845967       0.8292\n",
       "3      8    0.483793   0.522913      0.834017       0.8237\n",
       "2      4    0.536412   0.573573      0.814917       0.8057\n",
       "1      2    0.983580   1.008259      0.626533       0.6241\n",
       "0      1    1.517011   1.526342      0.334867       0.3338"
      ]
     },
     "execution_count": 24,
     "metadata": {},
     "output_type": "execute_result"
    }
   ],
   "source": [
    "results_num.sort_values(by='test_metric', ascending=False)"
   ]
  },
  {
   "cell_type": "markdown",
   "id": "866010c8",
   "metadata": {},
   "source": [
    "Лучшее качество на тесте получилось при количестве нейронов = 128.\n",
    "\n",
    "batch_size влияет на точность: чем меньше, тем выше точность. При этом количество epochs не так сильно влияет на точность."
   ]
  },
  {
   "cell_type": "code",
   "execution_count": 25,
   "id": "f449f38d",
   "metadata": {},
   "outputs": [
    {
     "data": {
      "image/png": "[encoded data removed]",
      "text/plain": [
       "<Figure size 1600x500 with 1 Axes>"
      ]
     },
     "metadata": {},
     "output_type": "display_data"
    },
    {
     "data": {
      "image/png": "[encoded data removed]",
      "text/plain": [
       "<Figure size 1600x500 with 1 Axes>"
      ]
     },
     "metadata": {},
     "output_type": "display_data"
    }
   ],
   "source": [
    "# Демонстрация полученных результатов\n",
    "# Диаграмма точности в зависимости от обучения\n",
    "plt.figure(figsize=(16, 5))\n",
    "plt.plot(results_num['n_num'],results_num['train_loss'], label='train')\n",
    "plt.plot(results_num['n_num'],results_num['test_loss'], label='test')\n",
    "plt.xlabel('Обучение')\n",
    "plt.ylabel('Ошибка')\n",
    "plt.show()\n",
    "\n",
    "plt.figure(figsize=(16, 5))\n",
    "plt.plot(results_num['n_num'],results_num['train_metric'], label='train')\n",
    "plt.plot(results_num['n_num'],results_num['test_metric'], label='test')\n",
    "plt.xlabel('Число нейронов скрытого слоя')\n",
    "plt.ylabel('Accuracy')\n",
    "plt.show()"
   ]
  },
  {
   "cell_type": "markdown",
   "id": "5078fe30",
   "metadata": {},
   "source": [
    "Пробуем перебор количества скрытых слоев (2, 3, 5, 10)"
   ]
  },
  {
   "cell_type": "code",
   "execution_count": 26,
   "id": "fd51bc8b",
   "metadata": {},
   "outputs": [
    {
     "name": "stdout",
     "output_type": "stream",
     "text": [
      "Model: \"sequential_11\"\n",
      "_________________________________________________________________\n",
      " Layer (type)                Output Shape              Param #   \n",
      "=================================================================\n",
      " dense_33 (Dense)            (None, 64)                50240     \n",
      "                                                                 \n",
      " dense_34 (Dense)            (None, 128)               8320      \n",
      "                                                                 \n",
      " dense_35 (Dense)            (None, 10)                1290      \n",
      "                                                                 \n",
      "=================================================================\n",
      "Total params: 59,850\n",
      "Trainable params: 59,850\n",
      "Non-trainable params: 0\n",
      "_________________________________________________________________\n",
      "Epoch 1/5\n",
      "938/938 [==============================] - 2s 2ms/step - loss: 0.9517 - accuracy: 0.6970 - val_loss: 0.6557 - val_accuracy: 0.7741\n",
      "Epoch 2/5\n",
      "938/938 [==============================] - 1s 2ms/step - loss: 0.5693 - accuracy: 0.8074 - val_loss: 0.5592 - val_accuracy: 0.8069\n",
      "Epoch 3/5\n",
      "938/938 [==============================] - 1s 1ms/step - loss: 0.5056 - accuracy: 0.8252 - val_loss: 0.5070 - val_accuracy: 0.8212\n",
      "Epoch 4/5\n",
      "938/938 [==============================] - 1s 1ms/step - loss: 0.4745 - accuracy: 0.8351 - val_loss: 0.5179 - val_accuracy: 0.8132\n",
      "Epoch 5/5\n",
      "938/938 [==============================] - 1s 1ms/step - loss: 0.4543 - accuracy: 0.8422 - val_loss: 0.4706 - val_accuracy: 0.8344\n",
      "938/938 [==============================] - 1s 1ms/step - loss: 0.4367 - accuracy: 0.8477\n",
      "157/157 [==============================] - 0s 1ms/step - loss: 0.4706 - accuracy: 0.8344\n",
      "Model: \"sequential_12\"\n",
      "_________________________________________________________________\n",
      " Layer (type)                Output Shape              Param #   \n",
      "=================================================================\n",
      " dense_36 (Dense)            (None, 64)                50240     \n",
      "                                                                 \n",
      " dense_37 (Dense)            (None, 67)                4355      \n",
      "                                                                 \n",
      " dense_38 (Dense)            (None, 67)                4556      \n",
      "                                                                 \n",
      " dense_39 (Dense)            (None, 10)                680       \n",
      "                                                                 \n",
      "=================================================================\n",
      "Total params: 59,831\n",
      "Trainable params: 59,831\n",
      "Non-trainable params: 0\n",
      "_________________________________________________________________\n",
      "Epoch 1/5\n",
      "938/938 [==============================] - 2s 2ms/step - loss: 0.9698 - accuracy: 0.6643 - val_loss: 0.6567 - val_accuracy: 0.7652\n",
      "Epoch 2/5\n",
      "938/938 [==============================] - 1s 1ms/step - loss: 0.5850 - accuracy: 0.7944 - val_loss: 0.5820 - val_accuracy: 0.7946\n",
      "Epoch 3/5\n",
      "938/938 [==============================] - 1s 1ms/step - loss: 0.5153 - accuracy: 0.8183 - val_loss: 0.5880 - val_accuracy: 0.7813\n",
      "Epoch 4/5\n",
      "938/938 [==============================] - 1s 1ms/step - loss: 0.4794 - accuracy: 0.8299 - val_loss: 0.4918 - val_accuracy: 0.8249\n",
      "Epoch 5/5\n",
      "938/938 [==============================] - 1s 1ms/step - loss: 0.4560 - accuracy: 0.8391 - val_loss: 0.4846 - val_accuracy: 0.8264\n",
      "938/938 [==============================] - 1s 863us/step - loss: 0.4513 - accuracy: 0.8414\n",
      "157/157 [==============================] - 0s 1ms/step - loss: 0.4846 - accuracy: 0.8264\n",
      "Model: \"sequential_13\"\n",
      "_________________________________________________________________\n",
      " Layer (type)                Output Shape              Param #   \n",
      "=================================================================\n",
      " dense_40 (Dense)            (None, 64)                50240     \n",
      "                                                                 \n",
      " dense_41 (Dense)            (None, 45)                2925      \n",
      "                                                                 \n",
      " dense_42 (Dense)            (None, 45)                2070      \n",
      "                                                                 \n",
      " dense_43 (Dense)            (None, 45)                2070      \n",
      "                                                                 \n",
      " dense_44 (Dense)            (None, 45)                2070      \n",
      "                                                                 \n",
      " dense_45 (Dense)            (None, 10)                460       \n",
      "                                                                 \n",
      "=================================================================\n",
      "Total params: 59,835\n",
      "Trainable params: 59,835\n",
      "Non-trainable params: 0\n",
      "_________________________________________________________________\n",
      "Epoch 1/5\n",
      "938/938 [==============================] - 2s 2ms/step - loss: 1.2969 - accuracy: 0.5519 - val_loss: 0.7718 - val_accuracy: 0.7102\n",
      "Epoch 2/5\n",
      "938/938 [==============================] - 2s 2ms/step - loss: 0.6458 - accuracy: 0.7679 - val_loss: 0.5913 - val_accuracy: 0.7910\n",
      "Epoch 3/5\n",
      "938/938 [==============================] - 2s 2ms/step - loss: 0.5438 - accuracy: 0.8072 - val_loss: 0.5440 - val_accuracy: 0.7991\n",
      "Epoch 4/5\n",
      "938/938 [==============================] - 2s 2ms/step - loss: 0.4918 - accuracy: 0.8240 - val_loss: 0.5123 - val_accuracy: 0.8104\n",
      "Epoch 5/5\n",
      "938/938 [==============================] - 2s 2ms/step - loss: 0.4570 - accuracy: 0.8359 - val_loss: 0.4690 - val_accuracy: 0.8301\n",
      "938/938 [==============================] - 1s 1ms/step - loss: 0.4317 - accuracy: 0.8449\n",
      "157/157 [==============================] - 0s 1ms/step - loss: 0.4690 - accuracy: 0.8301\n",
      "Model: \"sequential_14\"\n",
      "_________________________________________________________________\n",
      " Layer (type)                Output Shape              Param #   \n",
      "=================================================================\n",
      " dense_46 (Dense)            (None, 64)                50240     \n",
      "                                                                 \n",
      " dense_47 (Dense)            (None, 30)                1950      \n",
      "                                                                 \n",
      " dense_48 (Dense)            (None, 30)                930       \n",
      "                                                                 \n",
      " dense_49 (Dense)            (None, 30)                930       \n",
      "                                                                 \n",
      " dense_50 (Dense)            (None, 30)                930       \n",
      "                                                                 \n",
      " dense_51 (Dense)            (None, 30)                930       \n",
      "                                                                 \n",
      " dense_52 (Dense)            (None, 30)                930       \n",
      "                                                                 \n",
      " dense_53 (Dense)            (None, 30)                930       \n",
      "                                                                 \n",
      " dense_54 (Dense)            (None, 30)                930       \n",
      "                                                                 \n",
      " dense_55 (Dense)            (None, 30)                930       \n",
      "                                                                 \n",
      " dense_56 (Dense)            (None, 10)                310       \n",
      "                                                                 \n",
      "=================================================================\n",
      "Total params: 59,940\n",
      "Trainable params: 59,940\n",
      "Non-trainable params: 0\n",
      "_________________________________________________________________\n",
      "Epoch 1/5\n",
      "938/938 [==============================] - 2s 1ms/step - loss: 2.1345 - accuracy: 0.2009 - val_loss: 1.4683 - val_accuracy: 0.4570\n",
      "Epoch 2/5\n",
      "938/938 [==============================] - 1s 2ms/step - loss: 1.0517 - accuracy: 0.6163 - val_loss: 0.9321 - val_accuracy: 0.6378\n",
      "Epoch 3/5\n",
      "938/938 [==============================] - 2s 2ms/step - loss: 0.7400 - accuracy: 0.7304 - val_loss: 0.6781 - val_accuracy: 0.7416\n",
      "Epoch 4/5\n",
      "938/938 [==============================] - 2s 2ms/step - loss: 0.6083 - accuracy: 0.7776 - val_loss: 0.5630 - val_accuracy: 0.7930\n",
      "Epoch 5/5\n",
      "938/938 [==============================] - 2s 2ms/step - loss: 0.5434 - accuracy: 0.8040 - val_loss: 0.5455 - val_accuracy: 0.8100\n"
     ]
    },
    {
     "name": "stdout",
     "output_type": "stream",
     "text": [
      "938/938 [==============================] - 1s 1ms/step - loss: 0.5085 - accuracy: 0.8240\n",
      "157/157 [==============================] - 0s 1ms/step - loss: 0.5455 - accuracy: 0.8100\n",
      "CPU times: total: 55.9 s\n",
      "Wall time: 38 s\n"
     ]
    }
   ],
   "source": [
    "%%time\n",
    "results_layers = pd.DataFrame()\n",
    "n_nums = [] # число нейронов скрытых слоев\n",
    "n_layers = [] # число скрытых слоев\n",
    "n_pars = [] # число тренируемых параметров\n",
    "train_losses = [] # ошибка на тренировочной выборке\n",
    "test_losses = [] # ошибка на тестовой выборке\n",
    "train_metrics = [] # accuracy на тренировочной выборке\n",
    "test_metrics = [] # accuracy на тестовой выборке\n",
    "\n",
    "# Базовый размер возьмем для двухслойной сети с 128 нейронами, и будем равняться на него\n",
    "k_dict = {2:128, 3:67, 5:45, 10:30}\n",
    "for n in [2, 3, 5, 10]:\n",
    "    \n",
    "    k = k_dict[n]\n",
    "    net_size = 64 * 785 + 65 * k + (n - 2) * (k + 1) * k + (k + 1) * 10\n",
    "    n_nums.append(k) \n",
    "    n_pars.append(net_size)\n",
    "    n_layers.append(n)\n",
    "    \n",
    "    model = Sequential()\n",
    "    model.add(Dense(64, input_shape=(28 * 28,), activation='relu'))\n",
    "    for i in range(n-1):\n",
    "        model.add(Dense(k, activation='relu'))\n",
    "    model.add(Dense(10, activation='sigmoid'))\n",
    "\n",
    "    model.summary()\n",
    "    \n",
    "    # Компиляция модели\n",
    "    model.compile(loss='categorical_crossentropy', optimizer='SGD', metrics=['accuracy'])\n",
    "    \n",
    "    history = model.fit(X_train, y_train,\n",
    "                    epochs=5,\n",
    "                    batch_size=64,\n",
    "                    verbose=1,\n",
    "                    validation_data=(X_test, y_test)\n",
    "                    )\n",
    "    train_acc = history.history['accuracy']\n",
    "    val_acc = history.history['val_accuracy']\n",
    "    \n",
    "    train_loss, train_metric = model.evaluate(X_train, y_train, batch_size=64)\n",
    "    train_losses.append(train_loss)\n",
    "    train_metrics.append(train_metric)\n",
    "    test_loss, test_metric = model.evaluate(X_test, y_test, batch_size=64)\n",
    "    test_losses.append(test_loss)\n",
    "    test_metrics.append(test_metric)\n",
    "    \n",
    "    \n",
    "results_layers['n_layer'] = n_layers\n",
    "results_layers['n_num'] = n_nums\n",
    "results_layers['n_par'] = n_pars\n",
    "results_layers['train_loss'] = train_losses\n",
    "results_layers['test_loss'] = test_losses\n",
    "results_layers['train_metric'] = train_metrics\n",
    "results_layers['test_metric'] = test_metrics"
   ]
  },
  {
   "cell_type": "code",
   "execution_count": 27,
   "id": "d1fb551b",
   "metadata": {},
   "outputs": [
    {
     "data": {
      "text/html": [
       "<div>\n",
       "<style scoped>\n",
       "    .dataframe tbody tr th:only-of-type {\n",
       "        vertical-align: middle;\n",
       "    }\n",
       "\n",
       "    .dataframe tbody tr th {\n",
       "        vertical-align: top;\n",
       "    }\n",
       "\n",
       "    .dataframe thead th {\n",
       "        text-align: right;\n",
       "    }\n",
       "</style>\n",
       "<table border=\"1\" class=\"dataframe\">\n",
       "  <thead>\n",
       "    <tr style=\"text-align: right;\">\n",
       "      <th></th>\n",
       "      <th>n_layer</th>\n",
       "      <th>n_num</th>\n",
       "      <th>n_par</th>\n",
       "      <th>train_loss</th>\n",
       "      <th>test_loss</th>\n",
       "      <th>train_metric</th>\n",
       "      <th>test_metric</th>\n",
       "    </tr>\n",
       "  </thead>\n",
       "  <tbody>\n",
       "    <tr>\n",
       "      <th>0</th>\n",
       "      <td>2</td>\n",
       "      <td>128</td>\n",
       "      <td>59850</td>\n",
       "      <td>0.436705</td>\n",
       "      <td>0.470648</td>\n",
       "      <td>0.847733</td>\n",
       "      <td>0.8344</td>\n",
       "    </tr>\n",
       "    <tr>\n",
       "      <th>2</th>\n",
       "      <td>5</td>\n",
       "      <td>45</td>\n",
       "      <td>59835</td>\n",
       "      <td>0.431693</td>\n",
       "      <td>0.468977</td>\n",
       "      <td>0.844850</td>\n",
       "      <td>0.8301</td>\n",
       "    </tr>\n",
       "    <tr>\n",
       "      <th>1</th>\n",
       "      <td>3</td>\n",
       "      <td>67</td>\n",
       "      <td>59831</td>\n",
       "      <td>0.451288</td>\n",
       "      <td>0.484554</td>\n",
       "      <td>0.841400</td>\n",
       "      <td>0.8264</td>\n",
       "    </tr>\n",
       "    <tr>\n",
       "      <th>3</th>\n",
       "      <td>10</td>\n",
       "      <td>30</td>\n",
       "      <td>59940</td>\n",
       "      <td>0.508465</td>\n",
       "      <td>0.545464</td>\n",
       "      <td>0.824033</td>\n",
       "      <td>0.8100</td>\n",
       "    </tr>\n",
       "  </tbody>\n",
       "</table>\n",
       "</div>"
      ],
      "text/plain": [
       "   n_layer  n_num  n_par  train_loss  test_loss  train_metric  test_metric\n",
       "0        2    128  59850    0.436705   0.470648      0.847733       0.8344\n",
       "2        5     45  59835    0.431693   0.468977      0.844850       0.8301\n",
       "1        3     67  59831    0.451288   0.484554      0.841400       0.8264\n",
       "3       10     30  59940    0.508465   0.545464      0.824033       0.8100"
      ]
     },
     "execution_count": 27,
     "metadata": {},
     "output_type": "execute_result"
    }
   ],
   "source": [
    "results_layers.sort_values(by='test_metric', ascending=False)"
   ]
  },
  {
   "cell_type": "markdown",
   "id": "80aafacc",
   "metadata": {},
   "source": [
    "Лучший результат остался у 2-х слойной сети с 128 параметрами."
   ]
  },
  {
   "cell_type": "markdown",
   "id": "1d3e38be",
   "metadata": {},
   "source": [
    "Посмотрим работу разных оптимизаторов (SGD, Adam, RMSProp) для этой модели."
   ]
  },
  {
   "cell_type": "code",
   "execution_count": 28,
   "id": "df55b7fb",
   "metadata": {},
   "outputs": [
    {
     "ename": "AttributeError",
     "evalue": "module 'keras.optimizers' has no attribute 'gradient_descent_v2'",
     "output_type": "error",
     "traceback": [
      "\u001b[1;31m---------------------------------------------------------------------------\u001b[0m",
      "\u001b[1;31mAttributeError\u001b[0m                            Traceback (most recent call last)",
      "File \u001b[1;32m<timed exec>:24\u001b[0m\n",
      "\u001b[1;31mAttributeError\u001b[0m: module 'keras.optimizers' has no attribute 'gradient_descent_v2'"
     ]
    },
    {
     "data": {
      "text/plain": [
       "<Figure size 1600x700 with 0 Axes>"
      ]
     },
     "metadata": {},
     "output_type": "display_data"
    }
   ],
   "source": [
    "%%time\n",
    "\n",
    "# создаем модель model\n",
    "model = Sequential([\n",
    "    Dense(64, activation='relu', input_shape=(28 * 28,)),\n",
    "    Dense(256, activation='relu'),\n",
    "    Dense(10, activation='sigmoid'),\n",
    "])\n",
    "\n",
    "# сохраняем ее веса (это начальная точка) model.save_weights('model.h5')\n",
    "model.save_weights('model_weights.h5')\n",
    "\n",
    "# будем сохранять модели в словарь\n",
    "models = {}\n",
    "\n",
    "plt.figure(figsize=(16, 7))\n",
    "colors = ['g', 'b', 'r']\n",
    "\n",
    "num_epochs = 5\n",
    "batch_size = 64\n",
    "\n",
    "# вектор для вывода результатов\n",
    "epoch = np.arange(num_epochs+1)\n",
    "\n",
    "# будем изменять оптимизаторы\n",
    "for i, i_optim in enumerate([keras.optimizers.gradient_descent_v2.SGD(),\n",
    "                             keras.optimizers.adagrad_v2.Adagrad(),\n",
    "                             keras.optimizers.rmsprop_v2.RMSprop(),\n",
    "                             keras.optimizers.adam_v2.Adam()]):\n",
    "    print(f'Оптимизатор: {i_optim.get_config()[\"name\"]}')\n",
    "    \n",
    "    # создаем рабочую модель  model_i, куда будем загружать эти веса (она должна быть идентичной структуры)\n",
    "    model_i = Sequential([\n",
    "        Dense(64, activation='relu', input_shape=(28 * 28,)),\n",
    "        Dense(256, activation='relu'),\n",
    "        Dense(10, activation='sigmoid'),\n",
    "    ])\n",
    "    \n",
    "    # загружаем веса model_i.load_weights('model.h5')\n",
    "    model_i.load_weights('model_weights.h5')\n",
    "    \n",
    "    # компилируем model_i с одним из оптимизаторов\n",
    "    model_i.compile(\n",
    "        optimizer=i_optim,\n",
    "        loss='categorical_crossentropy',\n",
    "        metrics=['accuracy'],\n",
    "        )\n",
    "    \n",
    "    # вычисляем ошибку для modeli без обучения\n",
    "    h0_train = model_i.evaluate(X_train, y_train, verbose=0)\n",
    "    h0_val = model_i.evaluate(X_test, y_test, verbose=0)\n",
    "\n",
    "    # проводим обучение модели \n",
    "    h = model_i.fit(X_train, y_train,\n",
    "                    epochs=num_epochs,\n",
    "                    batch_size=batch_size,\n",
    "                    validation_data=(X_test, y_test),\n",
    "                    verbose=1)\n",
    "    \n",
    "    # вычисляем ошибку для modeli после обучения\n",
    "    loss, metric = model_i.evaluate(X_test, y_test, batch_size=64)\n",
    "    print(f'Качество на тесте: {loss}, {metric}')\n",
    "    \n",
    "    # записываем обученную модель в словарь\n",
    "    models[i_optim.get_config()['name']] = model_i\n",
    "\n",
    "    \n",
    "    # картинки\n",
    "    '''\n",
    "    plt.figure(figsize=(16, 7))\n",
    "    plt.plot(epoch, np.log([h0_train[0]] + h.history['loss']),\n",
    "             '-', c=colors[i],\n",
    "             label=model_i.optimizer.get_config()['name'] + ' train')\n",
    "    plt.plot(epoch, np.log([h0_val[0]] + h.history['val_loss']),\n",
    "             '--', c=colors[i],\n",
    "             label=model_i.optimizer.get_config()['name'] + ' val')\n",
    "    '''\n",
    "    \n",
    "    plt.plot(epoch, ([h0_train[0]] + h.history['accuracy']),\n",
    "             '-', c=colors[i],\n",
    "             label=model_i.optimizer.get_config()['name'] + ' train')\n",
    "    plt.plot(epoch, ([h0_val[0]] + h.history['val_accuracy']),\n",
    "             '--', c=colors[i],\n",
    "             label=f'{model_i.optimizer.get_config()[\"name\"]} val {metric:.2f}')\n",
    "\n",
    "plt.legend()\n",
    "plt.title('нейросети от оптимизатора accuracy')\n",
    "plt.xlabel('epoch')\n",
    "plt.ylabel('accuracy')\n",
    "plt.show()"
   ]
  },
  {
   "cell_type": "markdown",
   "id": "69a34d73",
   "metadata": {},
   "source": [
    "К сожалению, я не смог разобраться почему не подключаются модули нормально. В Google Colab так же не работает (("
   ]
  },
  {
   "cell_type": "code",
   "execution_count": 29,
   "id": "3ba41a1e",
   "metadata": {},
   "outputs": [
    {
     "name": "stdout",
     "output_type": "stream",
     "text": [
      "Epoch 1/5\n",
      "938/938 [==============================] - 2s 1ms/step - loss: 0.5164 - accuracy: 0.8171 - val_loss: 0.4477 - val_accuracy: 0.8384\n",
      "Epoch 2/5\n",
      "938/938 [==============================] - 1s 1ms/step - loss: 0.3742 - accuracy: 0.8631 - val_loss: 0.3949 - val_accuracy: 0.8550\n",
      "Epoch 3/5\n",
      "938/938 [==============================] - 1s 1ms/step - loss: 0.3390 - accuracy: 0.8747 - val_loss: 0.3924 - val_accuracy: 0.8545\n",
      "Epoch 4/5\n",
      "938/938 [==============================] - 1s 2ms/step - loss: 0.3163 - accuracy: 0.8825 - val_loss: 0.3788 - val_accuracy: 0.8631\n",
      "Epoch 5/5\n",
      "938/938 [==============================] - 1s 1ms/step - loss: 0.2994 - accuracy: 0.8888 - val_loss: 0.3560 - val_accuracy: 0.8730\n",
      "157/157 [==============================] - 0s 811us/step - loss: 0.3560 - accuracy: 0.8730\n",
      "Качество на тесте: 0.3560084104537964, 0.8730000257492065\n",
      "CPU times: total: 15.5 s\n",
      "Wall time: 9.76 s\n"
     ]
    },
    {
     "data": {
      "text/plain": [
       "<Figure size 1600x700 with 0 Axes>"
      ]
     },
     "metadata": {},
     "output_type": "display_data"
    }
   ],
   "source": [
    "%%time\n",
    "\n",
    "# создаем модель model\n",
    "model = Sequential([\n",
    "    Dense(64, activation='relu', input_shape=(28 * 28,)),\n",
    "    Dense(256, activation='relu'),\n",
    "    Dense(10, activation='sigmoid'),\n",
    "])\n",
    "\n",
    "# сохраняем ее веса (это начальная точка) model.save_weights('model.h5')\n",
    "model.save_weights('model_weights.h5')\n",
    "\n",
    "# будем сохранять модели в словарь\n",
    "models = {}\n",
    "\n",
    "plt.figure(figsize=(16, 7))\n",
    "colors = ['g', 'b', 'r']\n",
    "\n",
    "num_epochs = 5\n",
    "batch_size = 64\n",
    "\n",
    "# вектор для вывода результатов\n",
    "epoch = np.arange(num_epochs+1)\n",
    "\n",
    "# создаем рабочую модель  model_i, куда будем загружать эти веса (она должна быть идентичной структуры)\n",
    "model_i = Sequential([\n",
    "    Dense(64, activation='relu', input_shape=(28 * 28,)),\n",
    "    Dense(256, activation='relu'),\n",
    "    Dense(10, activation='sigmoid'),\n",
    "])\n",
    "    \n",
    "# загружаем веса model_i.load_weights('model.h5')\n",
    "model_i.load_weights('model_weights.h5')\n",
    "    \n",
    "# компилируем model_i с одним из оптимизаторов\n",
    "model_i.compile(optimizer='Adam', loss='categorical_crossentropy', metrics=['accuracy'])\n",
    "    \n",
    "# вычисляем ошибку для modeli без обучения\n",
    "h0_train = model_i.evaluate(X_train, y_train, verbose=0)\n",
    "h0_val = model_i.evaluate(X_test, y_test, verbose=0)\n",
    "\n",
    "# проводим обучение модели \n",
    "h = model_i.fit(X_train, y_train,\n",
    "            epochs=num_epochs,\n",
    "            batch_size=batch_size,\n",
    "            validation_data=(X_test, y_test),\n",
    "            verbose=1)\n",
    "    \n",
    "# вычисляем ошибку для modeli после обучения\n",
    "loss, metric = model_i.evaluate(X_test, y_test, batch_size=64)\n",
    "print(f'Качество на тесте: {loss}, {metric}')"
   ]
  },
  {
   "cell_type": "markdown",
   "id": "3d4a2e51",
   "metadata": {},
   "source": [
    "Итоговое качество на тестовой выборке получилось 0.87 благодаря подбору оптимального количества слоев (2) и количества нейронов на них (128), а также выбору оптимизатора (Adam - по лекции)."
   ]
  },
  {
   "cell_type": "markdown",
   "id": "9658baa6",
   "metadata": {},
   "source": [
    "Также заметил, что при каждом новом запуске, сеть может выдавать разные оптимальные параметры."
   ]
  },
  {
   "cell_type": "code",
   "execution_count": 30,
   "id": "b0d11684",
   "metadata": {},
   "outputs": [
    {
     "data": {
      "text/plain": [
       "{'name': 'Adam',\n",
       " 'weight_decay': None,\n",
       " 'clipnorm': None,\n",
       " 'global_clipnorm': None,\n",
       " 'clipvalue': None,\n",
       " 'use_ema': False,\n",
       " 'ema_momentum': 0.99,\n",
       " 'ema_overwrite_frequency': None,\n",
       " 'jit_compile': False,\n",
       " 'is_legacy_optimizer': False,\n",
       " 'learning_rate': 0.001,\n",
       " 'beta_1': 0.9,\n",
       " 'beta_2': 0.999,\n",
       " 'epsilon': 1e-07,\n",
       " 'amsgrad': False}"
      ]
     },
     "execution_count": 30,
     "metadata": {},
     "output_type": "execute_result"
    }
   ],
   "source": [
    "model_i.optimizer.get_config()"
   ]
  },
  {
   "cell_type": "code",
   "execution_count": 31,
   "id": "41eaad25",
   "metadata": {},
   "outputs": [
    {
     "name": "stdout",
     "output_type": "stream",
     "text": [
      "1/1 [==============================] - 0s 49ms/step\n"
     ]
    },
    {
     "data": {
      "image/png": "[encoded data removed]",
      "text/plain": [
       "<Figure size 1500x500 with 5 Axes>"
      ]
     },
     "metadata": {},
     "output_type": "display_data"
    }
   ],
   "source": [
    "N = 5\n",
    "y_pred = model_i.predict(X_test[:N, :])\n",
    "y_pred_class = np.argmax(y_pred, axis=1)\n",
    "plt.figure(figsize=(3 * N, 5))\n",
    "\n",
    "for i in range(N):\n",
    "  plt.subplot(1, N, i+1)\n",
    "  plt.imshow(X_test[i,:].reshape(28, 28))\n",
    "  #plt.xlabel(str(y_pred_class[i]))\n",
    "  plt.xlabel(str(y_test_labels[i]))\n",
    "plt.show() "
   ]
  },
  {
   "cell_type": "code",
   "execution_count": 32,
   "id": "16df4012",
   "metadata": {},
   "outputs": [
    {
     "data": {
      "text/plain": [
       "array([9, 2, 1, 1, 6], dtype=int64)"
      ]
     },
     "execution_count": 32,
     "metadata": {},
     "output_type": "execute_result"
    }
   ],
   "source": [
    "y_pred_class"
   ]
  },
  {
   "cell_type": "markdown",
   "id": "f1c8b0c8",
   "metadata": {},
   "source": [
    "Задание 4. Для одного варианта сети сформируйте матрицу ошибок по классам. Оцените качество модели по каждому классу отдельно (полнота, точность)."
   ]
  },
  {
   "cell_type": "code",
   "execution_count": 33,
   "id": "e334d26f",
   "metadata": {},
   "outputs": [
    {
     "name": "stdout",
     "output_type": "stream",
     "text": [
      "313/313 [==============================] - 0s 1ms/step\n"
     ]
    }
   ],
   "source": [
    "y_pred = model_i.predict(X_test)\n",
    "y_pred_class = np.argmax(y_pred, axis=1)"
   ]
  },
  {
   "cell_type": "code",
   "execution_count": 34,
   "id": "b51c72da",
   "metadata": {},
   "outputs": [],
   "source": [
    "def plot_confusion_matrix(cm, classes,\n",
    "                          normalize=False,\n",
    "                          title='Confusion matrix',\n",
    "                          cmap=plt.cm.Blues):\n",
    "    \"\"\"\n",
    "    This function prints and plots the confusion matrix.\n",
    "    Normalization can be applied by setting `normalize=True`.\n",
    "    \"\"\"\n",
    "    plt.imshow(cm, interpolation='nearest', cmap=cmap)\n",
    "    plt.title(title)\n",
    "    plt.colorbar()\n",
    "    tick_marks = np.arange(len(classes))\n",
    "    plt.xticks(tick_marks, classes, rotation=45)\n",
    "    plt.yticks(tick_marks, classes)\n",
    "\n",
    "    if normalize:\n",
    "        cm = cm.astype('float') / cm.sum(axis=1)[:, np.newaxis]\n",
    "        print(\"Normalized confusion matrix\")\n",
    "    else:\n",
    "        print('Confusion matrix, without normalization')\n",
    "\n",
    "    #print(cm)\n",
    "\n",
    "    thresh = cm.max() / 2.\n",
    "    for i, j in itertools.product(range(cm.shape[0]), range(cm.shape[1])):\n",
    "        plt.text(j, i, cm[i, j],\n",
    "                 horizontalalignment=\"center\",\n",
    "                 color=\"white\" if cm[i, j] > thresh else \"black\")\n",
    "\n",
    "    plt.tight_layout()\n",
    "    plt.ylabel('True label')\n",
    "    plt.xlabel('Predicted label')"
   ]
  },
  {
   "cell_type": "code",
   "execution_count": 35,
   "id": "1f6fd38b",
   "metadata": {},
   "outputs": [
    {
     "name": "stdout",
     "output_type": "stream",
     "text": [
      "Confusion matrix, without normalization\n"
     ]
    },
    {
     "data": {
      "image/png": "[encoded data removed]",
      "text/plain": [
       "<Figure size 1000x800 with 2 Axes>"
      ]
     },
     "metadata": {},
     "output_type": "display_data"
    }
   ],
   "source": [
    "font = {'size' : 15}\n",
    "\n",
    "plt.rc('font', **font)\n",
    "\n",
    "cnf_matrix = confusion_matrix(y_test_labels, y_pred_class)\n",
    "plt.figure(figsize=(10, 8))\n",
    "plot_confusion_matrix(cnf_matrix, classes=['0', '1', '2', '3', '4', '5', '6', '7', '8', '9'],\n",
    "                      title='Confusion matrix', normalize=False)\n",
    "plt.show()"
   ]
  },
  {
   "cell_type": "code",
   "execution_count": 36,
   "id": "b5e5dce7",
   "metadata": {},
   "outputs": [],
   "source": [
    "def get_precision_and_recall_from_confusion_matrix(label, cnf_matrix):\n",
    "    str_sum = 0\n",
    "    col_sum = 0\n",
    "    for i in range(len(cnf_matrix)):\n",
    "        str_sum += cnf_matrix[label][i]\n",
    "        col_sum += cnf_matrix[i][label]\n",
    "        \n",
    "    return cnf_matrix[label][label] / str_sum, cnf_matrix[label][label] / col_sum"
   ]
  },
  {
   "cell_type": "code",
   "execution_count": 37,
   "id": "9a7e6b4c",
   "metadata": {},
   "outputs": [],
   "source": [
    "pr_rc_result = pd.DataFrame()\n",
    "precisions = []\n",
    "recalls = []\n",
    "labels = [0, 1, 2, 3, 4, 5, 6, 7, 8, 9]\n",
    "for l in labels:\n",
    "    p_r = get_precision_and_recall_from_confusion_matrix(l, cnf_matrix)\n",
    "    precisions.append(p_r[0])\n",
    "    recalls.append(p_r[1])\n",
    "pr_rc_result['label'] = labels\n",
    "pr_rc_result['precision'] = precisions\n",
    "pr_rc_result['recall'] = recalls"
   ]
  },
  {
   "cell_type": "code",
   "execution_count": 38,
   "id": "2b8cc72f",
   "metadata": {},
   "outputs": [
    {
     "data": {
      "text/html": [
       "<div>\n",
       "<style scoped>\n",
       "    .dataframe tbody tr th:only-of-type {\n",
       "        vertical-align: middle;\n",
       "    }\n",
       "\n",
       "    .dataframe tbody tr th {\n",
       "        vertical-align: top;\n",
       "    }\n",
       "\n",
       "    .dataframe thead th {\n",
       "        text-align: right;\n",
       "    }\n",
       "</style>\n",
       "<table border=\"1\" class=\"dataframe\">\n",
       "  <thead>\n",
       "    <tr style=\"text-align: right;\">\n",
       "      <th></th>\n",
       "      <th>label</th>\n",
       "      <th>precision</th>\n",
       "      <th>recall</th>\n",
       "    </tr>\n",
       "  </thead>\n",
       "  <tbody>\n",
       "    <tr>\n",
       "      <th>7</th>\n",
       "      <td>7</td>\n",
       "      <td>0.974</td>\n",
       "      <td>0.906890</td>\n",
       "    </tr>\n",
       "    <tr>\n",
       "      <th>1</th>\n",
       "      <td>1</td>\n",
       "      <td>0.962</td>\n",
       "      <td>0.994829</td>\n",
       "    </tr>\n",
       "    <tr>\n",
       "      <th>8</th>\n",
       "      <td>8</td>\n",
       "      <td>0.961</td>\n",
       "      <td>0.976626</td>\n",
       "    </tr>\n",
       "    <tr>\n",
       "      <th>5</th>\n",
       "      <td>5</td>\n",
       "      <td>0.937</td>\n",
       "      <td>0.986316</td>\n",
       "    </tr>\n",
       "    <tr>\n",
       "      <th>9</th>\n",
       "      <td>9</td>\n",
       "      <td>0.936</td>\n",
       "      <td>0.960986</td>\n",
       "    </tr>\n",
       "    <tr>\n",
       "      <th>3</th>\n",
       "      <td>3</td>\n",
       "      <td>0.894</td>\n",
       "      <td>0.874755</td>\n",
       "    </tr>\n",
       "    <tr>\n",
       "      <th>4</th>\n",
       "      <td>4</td>\n",
       "      <td>0.883</td>\n",
       "      <td>0.699683</td>\n",
       "    </tr>\n",
       "    <tr>\n",
       "      <th>0</th>\n",
       "      <td>0</td>\n",
       "      <td>0.860</td>\n",
       "      <td>0.800000</td>\n",
       "    </tr>\n",
       "    <tr>\n",
       "      <th>2</th>\n",
       "      <td>2</td>\n",
       "      <td>0.750</td>\n",
       "      <td>0.800427</td>\n",
       "    </tr>\n",
       "    <tr>\n",
       "      <th>6</th>\n",
       "      <td>6</td>\n",
       "      <td>0.573</td>\n",
       "      <td>0.758940</td>\n",
       "    </tr>\n",
       "  </tbody>\n",
       "</table>\n",
       "</div>"
      ],
      "text/plain": [
       "   label  precision    recall\n",
       "7      7      0.974  0.906890\n",
       "1      1      0.962  0.994829\n",
       "8      8      0.961  0.976626\n",
       "5      5      0.937  0.986316\n",
       "9      9      0.936  0.960986\n",
       "3      3      0.894  0.874755\n",
       "4      4      0.883  0.699683\n",
       "0      0      0.860  0.800000\n",
       "2      2      0.750  0.800427\n",
       "6      6      0.573  0.758940"
      ]
     },
     "execution_count": 38,
     "metadata": {},
     "output_type": "execute_result"
    }
   ],
   "source": [
    "pr_rc_result.sort_values(by='precision', ascending=False)"
   ]
  },
  {
   "cell_type": "code",
   "execution_count": 39,
   "id": "4ce71b25",
   "metadata": {},
   "outputs": [
    {
     "data": {
      "text/html": [
       "<div>\n",
       "<style scoped>\n",
       "    .dataframe tbody tr th:only-of-type {\n",
       "        vertical-align: middle;\n",
       "    }\n",
       "\n",
       "    .dataframe tbody tr th {\n",
       "        vertical-align: top;\n",
       "    }\n",
       "\n",
       "    .dataframe thead th {\n",
       "        text-align: right;\n",
       "    }\n",
       "</style>\n",
       "<table border=\"1\" class=\"dataframe\">\n",
       "  <thead>\n",
       "    <tr style=\"text-align: right;\">\n",
       "      <th></th>\n",
       "      <th>label</th>\n",
       "      <th>precision</th>\n",
       "      <th>recall</th>\n",
       "    </tr>\n",
       "  </thead>\n",
       "  <tbody>\n",
       "    <tr>\n",
       "      <th>1</th>\n",
       "      <td>1</td>\n",
       "      <td>0.962</td>\n",
       "      <td>0.994829</td>\n",
       "    </tr>\n",
       "    <tr>\n",
       "      <th>5</th>\n",
       "      <td>5</td>\n",
       "      <td>0.937</td>\n",
       "      <td>0.986316</td>\n",
       "    </tr>\n",
       "    <tr>\n",
       "      <th>8</th>\n",
       "      <td>8</td>\n",
       "      <td>0.961</td>\n",
       "      <td>0.976626</td>\n",
       "    </tr>\n",
       "    <tr>\n",
       "      <th>9</th>\n",
       "      <td>9</td>\n",
       "      <td>0.936</td>\n",
       "      <td>0.960986</td>\n",
       "    </tr>\n",
       "    <tr>\n",
       "      <th>7</th>\n",
       "      <td>7</td>\n",
       "      <td>0.974</td>\n",
       "      <td>0.906890</td>\n",
       "    </tr>\n",
       "    <tr>\n",
       "      <th>3</th>\n",
       "      <td>3</td>\n",
       "      <td>0.894</td>\n",
       "      <td>0.874755</td>\n",
       "    </tr>\n",
       "    <tr>\n",
       "      <th>2</th>\n",
       "      <td>2</td>\n",
       "      <td>0.750</td>\n",
       "      <td>0.800427</td>\n",
       "    </tr>\n",
       "    <tr>\n",
       "      <th>0</th>\n",
       "      <td>0</td>\n",
       "      <td>0.860</td>\n",
       "      <td>0.800000</td>\n",
       "    </tr>\n",
       "    <tr>\n",
       "      <th>6</th>\n",
       "      <td>6</td>\n",
       "      <td>0.573</td>\n",
       "      <td>0.758940</td>\n",
       "    </tr>\n",
       "    <tr>\n",
       "      <th>4</th>\n",
       "      <td>4</td>\n",
       "      <td>0.883</td>\n",
       "      <td>0.699683</td>\n",
       "    </tr>\n",
       "  </tbody>\n",
       "</table>\n",
       "</div>"
      ],
      "text/plain": [
       "   label  precision    recall\n",
       "1      1      0.962  0.994829\n",
       "5      5      0.937  0.986316\n",
       "8      8      0.961  0.976626\n",
       "9      9      0.936  0.960986\n",
       "7      7      0.974  0.906890\n",
       "3      3      0.894  0.874755\n",
       "2      2      0.750  0.800427\n",
       "0      0      0.860  0.800000\n",
       "6      6      0.573  0.758940\n",
       "4      4      0.883  0.699683"
      ]
     },
     "execution_count": 39,
     "metadata": {},
     "output_type": "execute_result"
    }
   ],
   "source": [
    "pr_rc_result.sort_values(by='recall', ascending=False)"
   ]
  },
  {
   "cell_type": "markdown",
   "id": "a9ce823c",
   "metadata": {},
   "source": [
    "Получилось, что точнее всего наша модель предсказывает брюки, ботинки, сандали. <br>\n",
    "Хуже всего модель предсказывает футболки, пуловеры, рубашки."
   ]
  }
 ],
 "metadata": {
  "kernelspec": {
   "display_name": "Python 3 (ipykernel)",
   "language": "python",
   "name": "python3"
  },
  "language_info": {
   "codemirror_mode": {
    "name": "ipython",
    "version": 3
   },
   "file_extension": ".py",
   "mimetype": "text/x-python",
   "name": "python",
   "nbconvert_exporter": "python",
   "pygments_lexer": "ipython3",
   "version": "3.9.13"
  }
 },
 "nbformat": 4,
 "nbformat_minor": 5
}
